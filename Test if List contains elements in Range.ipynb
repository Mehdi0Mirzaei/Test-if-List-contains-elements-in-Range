{
 "cells": [
  {
   "cell_type": "code",
   "execution_count": 81,
   "id": "20d957bc",
   "metadata": {},
   "outputs": [
    {
     "name": "stdout",
     "output_type": "stream",
     "text": [
      "The original list is : [233, 76, 54, 3]\n",
      "Does list contain all elements in range : False\n"
     ]
    }
   ],
   "source": [
    "# Initializing loop\n",
    "test_list = lst2=[233,76,54,3]\n",
    " \n",
    "# printing original list\n",
    "print(\"The original list is : \" + str(test_list))\n",
    " \n",
    "# Initialization of range\n",
    "i, j = 3, 10\n",
    " \n",
    "# Test if List contains elements in Range\n",
    "# using loop\n",
    "res = True\n",
    "for ele in test_list:\n",
    "    if ele < i or ele >= j :\n",
    "        res = False\n",
    "        break\n",
    " # printing result\n",
    "print (\"Does list contain all elements in range : \" + str(res))"
   ]
  },
  {
   "cell_type": "code",
   "execution_count": 82,
   "id": "142f93c5",
   "metadata": {},
   "outputs": [],
   "source": [
    "lst2=[233,76,54,3]"
   ]
  },
  {
   "cell_type": "code",
   "execution_count": 87,
   "id": "be7e8612",
   "metadata": {},
   "outputs": [
    {
     "name": "stdout",
     "output_type": "stream",
     "text": [
      "The original list is : [4, 5, 6, 7, 3, 9]\n",
      "Does list contain all elements in range : True\n"
     ]
    }
   ],
   "source": [
    "test_list = [4, 5, 6, 7, 3, 9]\n",
    " \n",
    "# printing original list\n",
    "print(\"The original list is : \" + str(test_list))\n",
    " \n",
    "# Initialization of range\n",
    "i, j = 3, 10\n",
    " \n",
    "# Test if List contains elements in Range\n",
    "# using all()\n",
    "res = all(ele >= i and ele < j for ele in test_list)\n",
    " \n",
    "# printing result\n",
    "print (\"Does list contain all elements in range : \" + str(res))"
   ]
  },
  {
   "cell_type": "code",
   "execution_count": 88,
   "id": "750dde6e",
   "metadata": {},
   "outputs": [
    {
     "name": "stdout",
     "output_type": "stream",
     "text": [
      "The original list is : [4, 5, 6, 7, 3, 9]\n",
      "Does list contain all elements in range : True\n"
     ]
    }
   ],
   "source": [
    "test_list = [4, 5, 6, 7, 3, 9]\n",
    " \n",
    "#printing original list\n",
    "print(\"The original list is : \" + str(test_list))\n",
    " \n",
    "#Initialization of range\n",
    "i, j = 3, 10\n",
    " \n",
    "#Test if List contains elements in Range\n",
    "#using List Comprehension and len()\n",
    "out_of_range = len([ele for ele in test_list if ele < i or ele >= j])==0\n",
    " \n",
    "#printing result\n",
    "print (\"Does list contain all elements in range : \" + str(out_of_range))"
   ]
  },
  {
   "cell_type": "code",
   "execution_count": 89,
   "id": "451c5324",
   "metadata": {},
   "outputs": [
    {
     "name": "stdout",
     "output_type": "stream",
     "text": [
      "Does list contain any element in range: True\n"
     ]
    }
   ],
   "source": [
    "# Initializing list and range boundaries\n",
    "test_list = [4, 5, 6, 7, 3, 9]\n",
    "i, j = 3, 10\n",
    " \n",
    "# Checking if any element in the list is within the range\n",
    "res = any(i <= x < j for x in test_list)\n",
    " \n",
    "# Printing the result\n",
    "print(\"Does list contain any element in range: \" + str(res))"
   ]
  },
  {
   "cell_type": "code",
   "execution_count": 90,
   "id": "3c8a0a31",
   "metadata": {},
   "outputs": [
    {
     "name": "stdout",
     "output_type": "stream",
     "text": [
      "Does list contain any element in range: True\n"
     ]
    }
   ],
   "source": [
    "# Initializing list and range boundaries\n",
    "test_list = [4, 5, 6, 7, 3, 9]\n",
    "i, j = 3, 10\n",
    " \n",
    "# Function to check if x lies within the given range\n",
    "def in_range(x):\n",
    "    return i <= x < j\n",
    " \n",
    "# Filtering out the elements that lie within the range\n",
    "filtered_list = list(filter(in_range, test_list))\n",
    " \n",
    "# Checking if the filtered list is not empty\n",
    "res = bool(filtered_list)\n",
    " \n",
    "# Printing the result\n",
    "print(\"Does list contain any element in range: \" + str(res))"
   ]
  },
  {
   "cell_type": "code",
   "execution_count": null,
   "id": "401f9753",
   "metadata": {},
   "outputs": [],
   "source": []
  }
 ],
 "metadata": {
  "kernelspec": {
   "display_name": "Python 3 (ipykernel)",
   "language": "python",
   "name": "python3"
  },
  "language_info": {
   "codemirror_mode": {
    "name": "ipython",
    "version": 3
   },
   "file_extension": ".py",
   "mimetype": "text/x-python",
   "name": "python",
   "nbconvert_exporter": "python",
   "pygments_lexer": "ipython3",
   "version": "3.9.13"
  }
 },
 "nbformat": 4,
 "nbformat_minor": 5
}
